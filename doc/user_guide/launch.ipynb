{
 "cells": [
  {
   "cell_type": "markdown",
   "metadata": {},
   "source": [
    "# Launching a dashboard\n",
    "\n",
    "A dashboard may be launched directly from the command line, using the `bokeh serve` command line utility, or from a Python session or Jupyter notebook."
   ]
  },
  {
   "cell_type": "markdown",
   "metadata": {},
   "source": [
    "## Launching from the command line\n",
    "\n",
    "The most common use case is to launch the dashboard from the command line using the `serialdashboard` command. Its usage can be ascertained by executing `serialdashboard --help` on the command line. The help message is as follows.\n",
    "\n",
    "```\n",
    "Usage: serialdashboard [OPTIONS]\n",
    "\n",
    "  Launch a serial dashboard from the command line.\n",
    "\n",
    "Options:\n",
    "  --port INTEGER             port at localhost for serving dashboard (default\n",
    "                             5006)\n",
    "  --browser TEXT             browser to use for dashboard (defaults to OS\n",
    "                             default)\n",
    "  --baudrate INTEGER         baud rate of serial connection (default 115200)\n",
    "  --maxcols INTEGER          maximum number of columns of data coming off of\n",
    "                             the board (default 10)\n",
    "  --delimiter TEXT           delimiter of data coming off of the board\n",
    "                             (default comma)\n",
    "  --columnlabels TEXT        labels for columns using delimiter specified with\n",
    "                             --delimiter flag (default is none)\n",
    "  --timecolumn TEXT          column (zero-indexed) of incoming data that\n",
    "                             specifies time (default none)\n",
    "  --timeunits TEXT           units of incoming time data (default ms)\n",
    "  --rollover INTEGER         number of data points to be shown on a plot for\n",
    "                             each column (default 400)\n",
    "  --glyph TEXT               which glyphs to display in the plotter; either\n",
    "                             lines, dots, or both (default lines)\n",
    "  --inputtype TEXT           whether input is ascii or bytes (default ascii)\n",
    "  --fileprefix TEXT          prefix of output files\n",
    "  --daqdelay INTEGER         approximate delay in milliseconds for data\n",
    "                             acquisition from the board (default 20)\n",
    "  --streamdelay INTEGER      delay in milliseconds between updates of the\n",
    "                             plotter and monitor (default 90)\n",
    "  --portsearchdelay INTEGER  delay in milliseconds for checks of serial\n",
    "                             devices (default 1000)\n",
    "  --help                     Show this message and exit.\n",
    "```\n",
    "\n",
    "The `--port` and `--browser` flags determine at which port and in which browser the dashboard is to live. Once the dashboard is launched, these cannot be changed.\n",
    "\n",
    "The `--daqdelay`, `--streamdelay` and `--portsearchdelay` flags also cannot be changed once the dashboard is launched. The values controlled by all other flags can be adjusted from within the dashboard; the flags serve only to populate the initial settings. This can be convenient if the dashboard is being used for a project with known properties. For example, it is convenient to launch a dashboard controlling and Arduino board with the sample sketch (described INCLUDE REFERENCE) using\n",
    "\n",
    "    serialdashboard --columnlabels \"t (ms),signal,sine wave\" --maxcols 3 --timecolumn 0"
   ]
  },
  {
   "cell_type": "markdown",
   "metadata": {},
   "source": [
    "## Launch from Python\n",
    "\n",
    "From an instance of Python or IPython, you can launch the serial dashboard with\n",
    "\n",
    "```python\n",
    "import serial_dashboard\n",
    "serial_dashboard.launch()\n",
    "```\n",
    "\n",
    "The `serial_dashboard.launch()` function has the same keyword arguments as the flags for the command line interface, above (with the exception of `help`). For example, to launch a dashboard with the sample sketch, one would use\n",
    "\n",
    "```python\n",
    "serial_dashboard.launch(columnlabels=\"t (ms),signal,sine wave\", maxcols=3, timecolumn=0)\n",
    "```"
   ]
  },
  {
   "cell_type": "markdown",
   "metadata": {},
   "source": [
    "## Launch with in Jupyter notebook\n",
    "\n",
    "A dashboard may live within a Jupyter notebook. To do this, use the `serial_dashboard.app()` function. (You will need to have [jupyter_bokeh](https://github.com/bokeh/jupyter_bokeh) installed.)\n",
    "\n",
    "```python\n",
    "import serial_dashboard\n",
    "import bokeh.io\n",
    "\n",
    "bokeh.io.output_notebook()\n",
    "\n",
    "dashboard_app = serial_dashboard.app()\n",
    "\n",
    "bokeh.io.show(dashboard_app)\n",
    "```\n",
    "\n",
    "It you want the same defaults as in the above example, use\n",
    "\n",
    "```python\n",
    "serial_dashboard.app(columnlabels=\"t (ms),signal,sine wave\", maxcols=3, timecolumn=0)\n",
    "```"
   ]
  },
  {
   "cell_type": "markdown",
   "metadata": {},
   "source": [
    "## Launching using bokeh serve\n",
    "\n",
    "Many users serve Bokeh-based apps using the `bokeh serve` command line tool. To launch a dashboard this way, you need to make a script per the specification of the `bokeh serve` tool. Such a script is as follows.\n",
    "\n",
    "```python\n",
    "import bokeh.plotting\n",
    "import serial_dashboard\n",
    "\n",
    "app = serial_dashboard.app()\n",
    "\n",
    "app(bokeh.plotting.curdoc())\n",
    "```\n",
    "\n",
    "Then, to launch the app, save the script in a file (say, named `launchscript.py`) and do the following on the command line.\n",
    "\n",
    "    bokeh serve --show launchscript.py"
   ]
  }
 ],
 "metadata": {
  "anaconda-cloud": {},
  "kernelspec": {
   "display_name": "Python 3 (ipykernel)",
   "language": "python",
   "name": "python3"
  },
  "language_info": {
   "codemirror_mode": {
    "name": "ipython",
    "version": 3
   },
   "file_extension": ".py",
   "mimetype": "text/x-python",
   "name": "python",
   "nbconvert_exporter": "python",
   "pygments_lexer": "ipython3",
   "version": "3.8.11"
  }
 },
 "nbformat": 4,
 "nbformat_minor": 4
}
